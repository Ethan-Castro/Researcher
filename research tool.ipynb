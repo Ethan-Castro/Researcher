{
 "cells": [
  {
   "cell_type": "code",
   "execution_count": 1,
   "metadata": {},
   "outputs": [
    {
     "name": "stdout",
     "output_type": "stream",
     "text": [
      "Defaulting to user installation because normal site-packages is not writeable\n",
      "Requirement already satisfied: pypdf in ./Library/Python/3.9/lib/python/site-packages (4.2.0)\n",
      "Requirement already satisfied: typing_extensions>=4.0 in ./Library/Python/3.9/lib/python/site-packages (from pypdf) (4.7.1)\n",
      "Defaulting to user installation because normal site-packages is not writeable\n",
      "Requirement already satisfied: phidata in ./Library/Python/3.9/lib/python/site-packages (2.4.14)\n",
      "Requirement already satisfied: gitpython in ./Library/Python/3.9/lib/python/site-packages (from phidata) (3.1.43)\n",
      "Requirement already satisfied: httpx in ./Library/Python/3.9/lib/python/site-packages (from phidata) (0.27.0)\n",
      "Requirement already satisfied: pydantic in ./Library/Python/3.9/lib/python/site-packages (from phidata) (2.7.1)\n",
      "Requirement already satisfied: pydantic-settings in ./Library/Python/3.9/lib/python/site-packages (from phidata) (2.2.1)\n",
      "Requirement already satisfied: python-dotenv in ./Library/Python/3.9/lib/python/site-packages (from phidata) (1.0.1)\n",
      "Requirement already satisfied: pyyaml in ./Library/Python/3.9/lib/python/site-packages (from phidata) (6.0.1)\n",
      "Requirement already satisfied: rich in ./Library/Python/3.9/lib/python/site-packages (from phidata) (13.7.1)\n",
      "Requirement already satisfied: tomli in ./Library/Python/3.9/lib/python/site-packages (from phidata) (2.0.1)\n",
      "Requirement already satisfied: typer in ./Library/Python/3.9/lib/python/site-packages (from phidata) (0.12.3)\n",
      "Requirement already satisfied: typing-extensions in ./Library/Python/3.9/lib/python/site-packages (from phidata) (4.7.1)\n",
      "Requirement already satisfied: gitdb<5,>=4.0.1 in ./Library/Python/3.9/lib/python/site-packages (from gitpython->phidata) (4.0.11)\n",
      "Requirement already satisfied: anyio in ./Library/Python/3.9/lib/python/site-packages (from httpx->phidata) (4.0.0)\n",
      "Requirement already satisfied: certifi in ./Library/Python/3.9/lib/python/site-packages (from httpx->phidata) (2023.7.22)\n",
      "Requirement already satisfied: httpcore==1.* in ./Library/Python/3.9/lib/python/site-packages (from httpx->phidata) (1.0.5)\n",
      "Requirement already satisfied: idna in ./Library/Python/3.9/lib/python/site-packages (from httpx->phidata) (3.4)\n",
      "Requirement already satisfied: sniffio in ./Library/Python/3.9/lib/python/site-packages (from httpx->phidata) (1.3.0)\n",
      "Requirement already satisfied: h11<0.15,>=0.13 in ./Library/Python/3.9/lib/python/site-packages (from httpcore==1.*->httpx->phidata) (0.14.0)\n",
      "Requirement already satisfied: annotated-types>=0.4.0 in ./Library/Python/3.9/lib/python/site-packages (from pydantic->phidata) (0.7.0)\n",
      "Requirement already satisfied: pydantic-core==2.18.2 in ./Library/Python/3.9/lib/python/site-packages (from pydantic->phidata) (2.18.2)\n",
      "Requirement already satisfied: markdown-it-py>=2.2.0 in ./Library/Python/3.9/lib/python/site-packages (from rich->phidata) (3.0.0)\n",
      "Requirement already satisfied: pygments<3.0.0,>=2.13.0 in ./Library/Python/3.9/lib/python/site-packages (from rich->phidata) (2.16.1)\n",
      "Requirement already satisfied: click>=8.0.0 in ./Library/Python/3.9/lib/python/site-packages (from typer->phidata) (8.1.7)\n",
      "Requirement already satisfied: shellingham>=1.3.0 in ./Library/Python/3.9/lib/python/site-packages (from typer->phidata) (1.5.4)\n",
      "Requirement already satisfied: smmap<6,>=3.0.1 in ./Library/Python/3.9/lib/python/site-packages (from gitdb<5,>=4.0.1->gitpython->phidata) (5.0.1)\n",
      "Requirement already satisfied: mdurl~=0.1 in ./Library/Python/3.9/lib/python/site-packages (from markdown-it-py>=2.2.0->rich->phidata) (0.1.2)\n",
      "Requirement already satisfied: exceptiongroup>=1.0.2 in ./Library/Python/3.9/lib/python/site-packages (from anyio->httpx->phidata) (1.1.3)\n"
     ]
    }
   ],
   "source": [
    "!pip install pypdf\n",
    "!pip install phidata"
   ]
  },
  {
   "cell_type": "code",
   "execution_count": null,
   "metadata": {},
   "outputs": [],
   "source": [
    "import streamlit as st\n",
    "from phi.assistant import Assistant\n",
    "from phi.llm.openai import OpenAIChat\n",
    "from phi.tools.arxiv_toolkit import ArxivToolkit\n"
   ]
  },
  {
   "cell_type": "code",
   "execution_count": null,
   "metadata": {},
   "outputs": [],
   "source": [
    "st.title(\"Chat with Arxiv 🔎🤖\")\n",
    "st.caption(\"This app allows you to chat with arXiv using OpenAI GPT-4o model.\")"
   ]
  },
  {
   "cell_type": "code",
   "execution_count": null,
   "metadata": {},
   "outputs": [],
   "source": [
    "openai_access_token = st.text_input(\"OpenAI_API_Key\", type=\"password\")\n"
   ]
  },
  {
   "cell_type": "code",
   "execution_count": null,
   "metadata": {},
   "outputs": [],
   "source": [
    "#If OpenAI API key is provided, create an instance of Assistant\n",
    "if openai_access_token:\n",
    "    # Create an instance of the Assistant\n",
    "    assistant = Assistant(\n",
    "    llm=OpenAIChat(\n",
    "        model=\"gpt-4o\",\n",
    "        max_tokens=500,\n",
    "        temperature=0.9,\n",
    "        api_key=openai_access_token) , tools=[ArxivToolkit()], show_tool_calls=True\n",
    "    )\n",
    "\n",
    "    # Get the search query from the user\n",
    "    query= st.text_input(\"Enter the Search Query\", type=\"default\")\n",
    "    \n",
    "    if query:\n",
    "        # Search the web using the AI Assistant\n",
    "        response = assistant.run(query, stream=False)\n",
    "        st.write(response)"
   ]
  },
  {
   "cell_type": "code",
   "execution_count": null,
   "metadata": {},
   "outputs": [],
   "source": []
  }
 ],
 "metadata": {
  "kernelspec": {
   "display_name": "Python 3",
   "language": "python",
   "name": "python3"
  },
  "language_info": {
   "codemirror_mode": {
    "name": "ipython",
    "version": 3
   },
   "file_extension": ".py",
   "mimetype": "text/x-python",
   "name": "python",
   "nbconvert_exporter": "python",
   "pygments_lexer": "ipython3",
   "version": "3.9.6"
  },
  "orig_nbformat": 4
 },
 "nbformat": 4,
 "nbformat_minor": 2
}
